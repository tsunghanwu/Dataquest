{
 "cells": [
  {
   "cell_type": "markdown",
   "metadata": {},
   "source": [
    "## Dataset overview"
   ]
  },
  {
   "cell_type": "code",
   "execution_count": 93,
   "metadata": {
    "collapsed": true
   },
   "outputs": [],
   "source": [
    "import pandas as pd\n",
    "import numpy as np\n",
    "import matplotlib.pyplot as plt\n",
    "import seaborn as sns\n",
    "\n",
    "%matplotlib inline"
   ]
  },
  {
   "cell_type": "code",
   "execution_count": 94,
   "metadata": {
    "collapsed": false,
    "scrolled": true
   },
   "outputs": [
    {
     "name": "stderr",
     "output_type": "stream",
     "text": [
      "/dataquest/system/env/python3/lib/python3.4/site-packages/IPython/core/interactiveshell.py:2723: DtypeWarning: Columns (17,62) have mixed types. Specify dtype option on import or set low_memory=False.\n",
      "  interactivity=interactivity, compiler=compiler, result=result)\n"
     ]
    }
   ],
   "source": [
    "df = pd.read_csv(\"2017-fCC-New-Coders-Survey-Data.csv\")"
   ]
  },
  {
   "cell_type": "code",
   "execution_count": 95,
   "metadata": {
    "collapsed": false
   },
   "outputs": [
    {
     "data": {
      "text/html": [
       "<div>\n",
       "<style scoped>\n",
       "    .dataframe tbody tr th:only-of-type {\n",
       "        vertical-align: middle;\n",
       "    }\n",
       "\n",
       "    .dataframe tbody tr th {\n",
       "        vertical-align: top;\n",
       "    }\n",
       "\n",
       "    .dataframe thead th {\n",
       "        text-align: right;\n",
       "    }\n",
       "</style>\n",
       "<table border=\"1\" class=\"dataframe\">\n",
       "  <thead>\n",
       "    <tr style=\"text-align: right;\">\n",
       "      <th></th>\n",
       "      <th>Age</th>\n",
       "      <th>AttendedBootcamp</th>\n",
       "      <th>BootcampFinish</th>\n",
       "      <th>BootcampLoanYesNo</th>\n",
       "      <th>BootcampName</th>\n",
       "      <th>BootcampRecommend</th>\n",
       "      <th>ChildrenNumber</th>\n",
       "      <th>CityPopulation</th>\n",
       "      <th>CodeEventConferences</th>\n",
       "      <th>CodeEventDjangoGirls</th>\n",
       "      <th>...</th>\n",
       "      <th>YouTubeFCC</th>\n",
       "      <th>YouTubeFunFunFunction</th>\n",
       "      <th>YouTubeGoogleDev</th>\n",
       "      <th>YouTubeLearnCode</th>\n",
       "      <th>YouTubeLevelUpTuts</th>\n",
       "      <th>YouTubeMIT</th>\n",
       "      <th>YouTubeMozillaHacks</th>\n",
       "      <th>YouTubeOther</th>\n",
       "      <th>YouTubeSimplilearn</th>\n",
       "      <th>YouTubeTheNewBoston</th>\n",
       "    </tr>\n",
       "  </thead>\n",
       "  <tbody>\n",
       "    <tr>\n",
       "      <th>0</th>\n",
       "      <td>27.0</td>\n",
       "      <td>0.0</td>\n",
       "      <td>NaN</td>\n",
       "      <td>NaN</td>\n",
       "      <td>NaN</td>\n",
       "      <td>NaN</td>\n",
       "      <td>NaN</td>\n",
       "      <td>more than 1 million</td>\n",
       "      <td>NaN</td>\n",
       "      <td>NaN</td>\n",
       "      <td>...</td>\n",
       "      <td>NaN</td>\n",
       "      <td>NaN</td>\n",
       "      <td>NaN</td>\n",
       "      <td>NaN</td>\n",
       "      <td>NaN</td>\n",
       "      <td>NaN</td>\n",
       "      <td>NaN</td>\n",
       "      <td>NaN</td>\n",
       "      <td>NaN</td>\n",
       "      <td>NaN</td>\n",
       "    </tr>\n",
       "    <tr>\n",
       "      <th>1</th>\n",
       "      <td>34.0</td>\n",
       "      <td>0.0</td>\n",
       "      <td>NaN</td>\n",
       "      <td>NaN</td>\n",
       "      <td>NaN</td>\n",
       "      <td>NaN</td>\n",
       "      <td>NaN</td>\n",
       "      <td>less than 100,000</td>\n",
       "      <td>NaN</td>\n",
       "      <td>NaN</td>\n",
       "      <td>...</td>\n",
       "      <td>1.0</td>\n",
       "      <td>NaN</td>\n",
       "      <td>NaN</td>\n",
       "      <td>NaN</td>\n",
       "      <td>NaN</td>\n",
       "      <td>NaN</td>\n",
       "      <td>NaN</td>\n",
       "      <td>NaN</td>\n",
       "      <td>NaN</td>\n",
       "      <td>NaN</td>\n",
       "    </tr>\n",
       "    <tr>\n",
       "      <th>2</th>\n",
       "      <td>21.0</td>\n",
       "      <td>0.0</td>\n",
       "      <td>NaN</td>\n",
       "      <td>NaN</td>\n",
       "      <td>NaN</td>\n",
       "      <td>NaN</td>\n",
       "      <td>NaN</td>\n",
       "      <td>more than 1 million</td>\n",
       "      <td>NaN</td>\n",
       "      <td>NaN</td>\n",
       "      <td>...</td>\n",
       "      <td>NaN</td>\n",
       "      <td>NaN</td>\n",
       "      <td>NaN</td>\n",
       "      <td>1.0</td>\n",
       "      <td>1.0</td>\n",
       "      <td>NaN</td>\n",
       "      <td>NaN</td>\n",
       "      <td>NaN</td>\n",
       "      <td>NaN</td>\n",
       "      <td>NaN</td>\n",
       "    </tr>\n",
       "    <tr>\n",
       "      <th>3</th>\n",
       "      <td>26.0</td>\n",
       "      <td>0.0</td>\n",
       "      <td>NaN</td>\n",
       "      <td>NaN</td>\n",
       "      <td>NaN</td>\n",
       "      <td>NaN</td>\n",
       "      <td>NaN</td>\n",
       "      <td>between 100,000 and 1 million</td>\n",
       "      <td>NaN</td>\n",
       "      <td>NaN</td>\n",
       "      <td>...</td>\n",
       "      <td>1.0</td>\n",
       "      <td>1.0</td>\n",
       "      <td>NaN</td>\n",
       "      <td>NaN</td>\n",
       "      <td>1.0</td>\n",
       "      <td>NaN</td>\n",
       "      <td>NaN</td>\n",
       "      <td>NaN</td>\n",
       "      <td>NaN</td>\n",
       "      <td>NaN</td>\n",
       "    </tr>\n",
       "    <tr>\n",
       "      <th>4</th>\n",
       "      <td>20.0</td>\n",
       "      <td>0.0</td>\n",
       "      <td>NaN</td>\n",
       "      <td>NaN</td>\n",
       "      <td>NaN</td>\n",
       "      <td>NaN</td>\n",
       "      <td>NaN</td>\n",
       "      <td>between 100,000 and 1 million</td>\n",
       "      <td>NaN</td>\n",
       "      <td>NaN</td>\n",
       "      <td>...</td>\n",
       "      <td>NaN</td>\n",
       "      <td>NaN</td>\n",
       "      <td>NaN</td>\n",
       "      <td>NaN</td>\n",
       "      <td>NaN</td>\n",
       "      <td>NaN</td>\n",
       "      <td>NaN</td>\n",
       "      <td>NaN</td>\n",
       "      <td>NaN</td>\n",
       "      <td>NaN</td>\n",
       "    </tr>\n",
       "  </tbody>\n",
       "</table>\n",
       "<p>5 rows × 136 columns</p>\n",
       "</div>"
      ],
      "text/plain": [
       "    Age  AttendedBootcamp  BootcampFinish  BootcampLoanYesNo BootcampName  \\\n",
       "0  27.0               0.0             NaN                NaN          NaN   \n",
       "1  34.0               0.0             NaN                NaN          NaN   \n",
       "2  21.0               0.0             NaN                NaN          NaN   \n",
       "3  26.0               0.0             NaN                NaN          NaN   \n",
       "4  20.0               0.0             NaN                NaN          NaN   \n",
       "\n",
       "   BootcampRecommend  ChildrenNumber                 CityPopulation  \\\n",
       "0                NaN             NaN            more than 1 million   \n",
       "1                NaN             NaN              less than 100,000   \n",
       "2                NaN             NaN            more than 1 million   \n",
       "3                NaN             NaN  between 100,000 and 1 million   \n",
       "4                NaN             NaN  between 100,000 and 1 million   \n",
       "\n",
       "   CodeEventConferences  CodeEventDjangoGirls         ...           \\\n",
       "0                   NaN                   NaN         ...            \n",
       "1                   NaN                   NaN         ...            \n",
       "2                   NaN                   NaN         ...            \n",
       "3                   NaN                   NaN         ...            \n",
       "4                   NaN                   NaN         ...            \n",
       "\n",
       "   YouTubeFCC  YouTubeFunFunFunction  YouTubeGoogleDev  YouTubeLearnCode  \\\n",
       "0         NaN                    NaN               NaN               NaN   \n",
       "1         1.0                    NaN               NaN               NaN   \n",
       "2         NaN                    NaN               NaN               1.0   \n",
       "3         1.0                    1.0               NaN               NaN   \n",
       "4         NaN                    NaN               NaN               NaN   \n",
       "\n",
       "   YouTubeLevelUpTuts  YouTubeMIT  YouTubeMozillaHacks YouTubeOther  \\\n",
       "0                 NaN         NaN                  NaN          NaN   \n",
       "1                 NaN         NaN                  NaN          NaN   \n",
       "2                 1.0         NaN                  NaN          NaN   \n",
       "3                 1.0         NaN                  NaN          NaN   \n",
       "4                 NaN         NaN                  NaN          NaN   \n",
       "\n",
       "   YouTubeSimplilearn  YouTubeTheNewBoston  \n",
       "0                 NaN                  NaN  \n",
       "1                 NaN                  NaN  \n",
       "2                 NaN                  NaN  \n",
       "3                 NaN                  NaN  \n",
       "4                 NaN                  NaN  \n",
       "\n",
       "[5 rows x 136 columns]"
      ]
     },
     "execution_count": 95,
     "metadata": {},
     "output_type": "execute_result"
    }
   ],
   "source": [
    "df.head()"
   ]
  },
  {
   "cell_type": "code",
   "execution_count": 96,
   "metadata": {
    "collapsed": false
   },
   "outputs": [
    {
     "data": {
      "text/plain": [
       "Index(['Age', 'AttendedBootcamp', 'BootcampFinish', 'BootcampLoanYesNo',\n",
       "       'BootcampName', 'BootcampRecommend', 'ChildrenNumber', 'CityPopulation',\n",
       "       'CodeEventConferences', 'CodeEventDjangoGirls',\n",
       "       ...\n",
       "       'YouTubeFCC', 'YouTubeFunFunFunction', 'YouTubeGoogleDev',\n",
       "       'YouTubeLearnCode', 'YouTubeLevelUpTuts', 'YouTubeMIT',\n",
       "       'YouTubeMozillaHacks', 'YouTubeOther', 'YouTubeSimplilearn',\n",
       "       'YouTubeTheNewBoston'],\n",
       "      dtype='object', length=136)"
      ]
     },
     "execution_count": 96,
     "metadata": {},
     "output_type": "execute_result"
    }
   ],
   "source": [
    "df.columns"
   ]
  },
  {
   "cell_type": "markdown",
   "metadata": {},
   "source": [
    "## Check for sample representativity"
   ]
  },
  {
   "cell_type": "code",
   "execution_count": 97,
   "metadata": {
    "collapsed": false
   },
   "outputs": [
    {
     "data": {
      "text/plain": [
       "Full-Stack Web Developer                                                                                                                                                                               11.770595\n",
       "  Front-End Web Developer                                                                                                                                                                               6.435927\n",
       "  Data Scientist                                                                                                                                                                                        2.173913\n",
       "Back-End Web Developer                                                                                                                                                                                  2.030892\n",
       "  Mobile Developer                                                                                                                                                                                      1.673341\n",
       "Game Developer                                                                                                                                                                                          1.630435\n",
       "Information Security                                                                                                                                                                                    1.315789\n",
       "Full-Stack Web Developer,   Front-End Web Developer                                                                                                                                                     0.915332\n",
       "  Front-End Web Developer, Full-Stack Web Developer                                                                                                                                                     0.800915\n",
       "  Product Manager                                                                                                                                                                                       0.786613\n",
       "Data Engineer                                                                                                                                                                                           0.758009\n",
       "  User Experience Designer                                                                                                                                                                              0.743707\n",
       "  User Experience Designer,   Front-End Web Developer                                                                                                                                                   0.614989\n",
       "  Front-End Web Developer, Back-End Web Developer, Full-Stack Web Developer                                                                                                                             0.557780\n",
       "Back-End Web Developer,   Front-End Web Developer, Full-Stack Web Developer                                                                                                                             0.514874\n",
       "Back-End Web Developer, Full-Stack Web Developer,   Front-End Web Developer                                                                                                                             0.514874\n",
       "  DevOps / SysAdmin                                                                                                                                                                                     0.514874\n",
       "Full-Stack Web Developer,   Front-End Web Developer, Back-End Web Developer                                                                                                                             0.443364\n",
       "  Front-End Web Developer, Full-Stack Web Developer, Back-End Web Developer                                                                                                                             0.429062\n",
       "  Front-End Web Developer,   User Experience Designer                                                                                                                                                   0.414760\n",
       "Full-Stack Web Developer,   Mobile Developer                                                                                                                                                            0.414760\n",
       "Back-End Web Developer, Full-Stack Web Developer                                                                                                                                                        0.386156\n",
       "Full-Stack Web Developer, Back-End Web Developer                                                                                                                                                        0.371854\n",
       "Back-End Web Developer,   Front-End Web Developer                                                                                                                                                       0.286041\n",
       "Full-Stack Web Developer, Back-End Web Developer,   Front-End Web Developer                                                                                                                             0.271739\n",
       "Data Engineer,   Data Scientist                                                                                                                                                                         0.271739\n",
       "  Front-End Web Developer,   Mobile Developer                                                                                                                                                           0.257437\n",
       "Full-Stack Web Developer,   Data Scientist                                                                                                                                                              0.243135\n",
       "  Data Scientist, Data Engineer                                                                                                                                                                         0.228833\n",
       "  Mobile Developer, Game Developer                                                                                                                                                                      0.228833\n",
       "                                                                                                                                                                                                         ...    \n",
       "  Data Scientist,   User Experience Designer,   Front-End Web Developer,   DevOps / SysAdmin, Game Developer, Back-End Web Developer, Data Engineer, Full-Stack Web Developer, Information Security     0.014302\n",
       "  Front-End Web Developer, Full-Stack Web Developer,   Mobile Developer, Game Developer, Back-End Web Developer                                                                                         0.014302\n",
       "  User Experience Designer, Full-Stack Web Developer,   Front-End Web Developer, Back-End Web Developer,   Mobile Developer                                                                             0.014302\n",
       "Full-Stack Web Developer,   Quality Assurance Engineer, Game Developer, Back-End Web Developer,   User Experience Designer,   Front-End Web Developer                                                   0.014302\n",
       "Game Developer,   Front-End Web Developer, Information Security,   User Experience Designer                                                                                                             0.014302\n",
       "  Mobile Developer, Game Developer, Full-Stack Web Developer,   Front-End Web Developer, Back-End Web Developer                                                                                         0.014302\n",
       "Back-End Web Developer, Full-Stack Web Developer,   Product Manager,   Front-End Web Developer, Information Security                                                                                    0.014302\n",
       "Full-Stack Web Developer,   Data Scientist, Information Security,   Mobile Developer, Data Engineer                                                                                                     0.014302\n",
       "Full-Stack Web Developer,   User Experience Designer,   Product Manager,   Mobile Developer,   Front-End Web Developer                                                                                  0.014302\n",
       "  DevOps / SysAdmin, Back-End Web Developer, Information Security, Full-Stack Web Developer,   Front-End Web Developer,   Mobile Developer,   Data Scientist,   Quality Assurance Engineer              0.014302\n",
       "  Mobile Developer,   Data Scientist,   Front-End Web Developer, Full-Stack Web Developer, Back-End Web Developer                                                                                       0.014302\n",
       "  Mobile Developer, Game Developer, Back-End Web Developer, Full-Stack Web Developer,   Front-End Web Developer,   User Experience Designer, User Interface Designer                                    0.014302\n",
       "Data Engineer, Information Security,   DevOps / SysAdmin,   Data Scientist,   Front-End Web Developer, Full-Stack Web Developer                                                                         0.014302\n",
       "Game Developer, Back-End Web Developer,   Front-End Web Developer, Full-Stack Web Developer,   Mobile Developer                                                                                         0.014302\n",
       "Full-Stack Web Developer,   Mobile Developer, Information Security                                                                                                                                      0.014302\n",
       "Desktop Applications Programmer                                                                                                                                                                         0.014302\n",
       "  User Experience Designer, Data Engineer,   Front-End Web Developer, Full-Stack Web Developer,   Data Scientist, Back-End Web Developer                                                                0.014302\n",
       "Information Security,   Front-End Web Developer,   Mobile Developer,   User Experience Designer, Game Developer, Back-End Web Developer, Full-Stack Web Developer                                       0.014302\n",
       "  DevOps / SysAdmin,   Mobile Developer, Back-End Web Developer, Full-Stack Web Developer, Information Security                                                                                         0.014302\n",
       "Game Developer,   Product Manager, Full-Stack Web Developer,   Data Scientist                                                                                                                           0.014302\n",
       "Data Engineer,   Mobile Developer, Back-End Web Developer, Full-Stack Web Developer, Game Developer,   Front-End Web Developer                                                                          0.014302\n",
       "  Quality Assurance Engineer, Back-End Web Developer,   DevOps / SysAdmin, Full-Stack Web Developer,   Mobile Developer, Data Engineer,   User Experience Designer,   Front-End Web Developer           0.014302\n",
       "Information Security, Data Engineer,   Data Scientist, Game Developer,   DevOps / SysAdmin                                                                                                              0.014302\n",
       "  Data Scientist, Back-End Web Developer,   DevOps / SysAdmin,   Front-End Web Developer                                                                                                                0.014302\n",
       "Full-Stack Web Developer, Information Security, Back-End Web Developer,   Front-End Web Developer                                                                                                       0.014302\n",
       "Back-End Web Developer, Data Engineer, Full-Stack Web Developer,   Product Manager,   Data Scientist,   Mobile Developer                                                                                0.014302\n",
       "  Front-End Web Developer,   Quality Assurance Engineer,   User Experience Designer,   Product Manager,   Data Scientist, Data Engineer                                                                 0.014302\n",
       "  Front-End Web Developer,   Data Scientist,   User Experience Designer, Teacher                                                                                                                        0.014302\n",
       "  User Experience Designer,   Data Scientist, Game Developer,   Front-End Web Developer                                                                                                                 0.014302\n",
       "  Front-End Web Developer, Back-End Web Developer,   Mobile Developer, Full-Stack Web Developer, Data Engineer                                                                                          0.014302\n",
       "Name: JobRoleInterest, Length: 3213, dtype: float64"
      ]
     },
     "execution_count": 97,
     "metadata": {},
     "output_type": "execute_result"
    }
   ],
   "source": [
    "df[\"JobRoleInterest\"].value_counts(normalize=True)*100"
   ]
  },
  {
   "cell_type": "markdown",
   "metadata": {},
   "source": [
    "* People could be interested in more than one subject\n",
    "* Most of the peopole is still interested in one subject"
   ]
  },
  {
   "cell_type": "code",
   "execution_count": 101,
   "metadata": {
    "collapsed": false
   },
   "outputs": [
    {
     "data": {
      "image/png": "[encoded data removed]",
      "text/plain": [
       "<matplotlib.figure.Figure at 0x7fece5f79f98>"
      ]
     },
     "metadata": {},
     "output_type": "display_data"
    }
   ],
   "source": [
    "plt.style.use(\"fivethirtyeight\")\n",
    "df[\"JobRoleInterest\"].value_counts(ascending=False)[:10].plot.barh();"
   ]
  },
  {
   "cell_type": "markdown",
   "metadata": {},
   "source": [
    "* From the chart above, there are more than 1500 people who are interested in web and mobile development "
   ]
  },
  {
   "cell_type": "markdown",
   "metadata": {},
   "source": [
    "## Location and density for new coders"
   ]
  },
  {
   "cell_type": "code",
   "execution_count": 102,
   "metadata": {
    "collapsed": false
   },
   "outputs": [
    {
     "data": {
      "text/plain": [
       "United States of America    37.760824\n",
       "India                        9.128847\n",
       "United Kingdom               4.936098\n",
       "Canada                       4.016693\n",
       "Brazil                       2.373500\n",
       "Name: CountryLive, dtype: float64"
      ]
     },
     "execution_count": 102,
     "metadata": {},
     "output_type": "execute_result"
    }
   ],
   "source": [
    "df[\"CountryLive\"].value_counts(normalize=True).head()*100"
   ]
  },
  {
   "cell_type": "code",
   "execution_count": 103,
   "metadata": {
    "collapsed": false
   },
   "outputs": [
    {
     "data": {
      "text/plain": [
       "United States of America    5791\n",
       "India                       1400\n",
       "United Kingdom               757\n",
       "Canada                       616\n",
       "Brazil                       364\n",
       "Name: CountryLive, dtype: int64"
      ]
     },
     "execution_count": 103,
     "metadata": {},
     "output_type": "execute_result"
    }
   ],
   "source": [
    "df[\"CountryLive\"].value_counts().head()"
   ]
  },
  {
   "cell_type": "code",
   "execution_count": 105,
   "metadata": {
    "collapsed": false,
    "scrolled": true
   },
   "outputs": [
    {
     "data": {
      "image/png": "[encoded data removed]",
      "text/plain": [
       "<matplotlib.figure.Figure at 0x7fece5cc4780>"
      ]
     },
     "metadata": {},
     "output_type": "display_data"
    }
   ],
   "source": [
    "plt.style.use(\"fivethirtyeight\")\n",
    "df[\"CountryLive\"].value_counts()[:10].plot.barh();"
   ]
  },
  {
   "cell_type": "markdown",
   "metadata": {},
   "source": [
    "* The top-3 countries the the new codes live are USA, India, and UK\n",
    "* Based on this results, USA and India should be the focus of the advertisement"
   ]
  },
  {
   "cell_type": "code",
   "execution_count": 106,
   "metadata": {
    "collapsed": false
   },
   "outputs": [
    {
     "data": {
      "image/png": "[encoded data removed]",
      "text/plain": [
       "<matplotlib.figure.Figure at 0x7fece5e7cc18>"
      ]
     },
     "metadata": {},
     "output_type": "display_data"
    }
   ],
   "source": [
    "plt.style.use(\"fivethirtyeight\")\n",
    "df[\"CountryCitizen\"].value_counts()[:10].plot.barh();"
   ]
  },
  {
   "cell_type": "markdown",
   "metadata": {},
   "source": [
    "* Both CountryCitizen and CountryLive show similar results"
   ]
  },
  {
   "cell_type": "markdown",
   "metadata": {
    "collapsed": true
   },
   "source": [
    "## Money spent for learning"
   ]
  },
  {
   "cell_type": "code",
   "execution_count": 107,
   "metadata": {
    "collapsed": false
   },
   "outputs": [],
   "source": [
    "df[\"MonthsProgramming\"] = df[\"MonthsProgramming\"].replace(0, 1)\n",
    "df[\"Money per month\"] = df[\"MoneyForLearning\"] / df[\"MonthsProgramming\"]"
   ]
  },
  {
   "cell_type": "code",
   "execution_count": 108,
   "metadata": {
    "collapsed": false
   },
   "outputs": [
    {
     "data": {
      "text/plain": [
       "1995"
      ]
     },
     "execution_count": 108,
     "metadata": {},
     "output_type": "execute_result"
    }
   ],
   "source": [
    "df[\"Money per month\"].isnull().sum()"
   ]
  },
  {
   "cell_type": "code",
   "execution_count": 109,
   "metadata": {
    "collapsed": false
   },
   "outputs": [],
   "source": [
    "df = df.dropna(subset=[\"Money per month\"])"
   ]
  },
  {
   "cell_type": "code",
   "execution_count": 110,
   "metadata": {
    "collapsed": false
   },
   "outputs": [
    {
     "data": {
      "text/plain": [
       "0"
      ]
     },
     "execution_count": 110,
     "metadata": {},
     "output_type": "execute_result"
    }
   ],
   "source": [
    "df[\"Money per month\"].isnull().sum()"
   ]
  },
  {
   "cell_type": "code",
   "execution_count": 111,
   "metadata": {
    "collapsed": false
   },
   "outputs": [],
   "source": [
    "df_target = df[(df[\"CountryLive\"] == \"United States of America\") \n",
    "               | (df[\"CountryLive\"] == \"India\")\n",
    "                | (df[\"CountryLive\"] == \"United Kingdom\")\n",
    "                 | (df[\"CountryLive\"] == \"Canada\")]"
   ]
  },
  {
   "cell_type": "code",
   "execution_count": 112,
   "metadata": {
    "collapsed": false
   },
   "outputs": [
    {
     "data": {
      "text/plain": [
       "United States of America    5471\n",
       "India                       1221\n",
       "United Kingdom               698\n",
       "Canada                       578\n",
       "Name: CountryLive, dtype: int64"
      ]
     },
     "execution_count": 112,
     "metadata": {},
     "output_type": "execute_result"
    }
   ],
   "source": [
    "df_target[\"CountryLive\"].value_counts()"
   ]
  },
  {
   "cell_type": "code",
   "execution_count": 113,
   "metadata": {
    "collapsed": false
   },
   "outputs": [
    {
     "name": "stdout",
     "output_type": "stream",
     "text": [
      "Mean--------------------\n"
     ]
    },
    {
     "data": {
      "text/plain": [
       "CountryLive\n",
       "United States of America    206.297711\n",
       "Canada                      118.434054\n",
       "India                        66.526198\n",
       "United Kingdom               55.774980\n",
       "Name: Money per month, dtype: float64"
      ]
     },
     "execution_count": 113,
     "metadata": {},
     "output_type": "execute_result"
    }
   ],
   "source": [
    "print(\"Mean\" + \"-\"*20)\n",
    "df_target.groupby(by=[\"CountryLive\"])[\"Money per month\"].mean().sort_values(ascending=False).head()"
   ]
  },
  {
   "cell_type": "code",
   "execution_count": 114,
   "metadata": {
    "collapsed": false
   },
   "outputs": [
    {
     "name": "stdout",
     "output_type": "stream",
     "text": [
      "Std--------------------\n"
     ]
    },
    {
     "data": {
      "text/plain": [
       "CountryLive\n",
       "United States of America    1807.536639\n",
       "India                        442.078116\n",
       "Canada                       365.956679\n",
       "United Kingdom               238.509986\n",
       "Name: Money per month, dtype: float64"
      ]
     },
     "execution_count": 114,
     "metadata": {},
     "output_type": "execute_result"
    }
   ],
   "source": [
    "print(\"Std\" + \"-\"*20)\n",
    "df_target.groupby(by=[\"CountryLive\"])[\"Money per month\"].std().sort_values(ascending=False).head()"
   ]
  },
  {
   "cell_type": "code",
   "execution_count": 115,
   "metadata": {
    "collapsed": false
   },
   "outputs": [
    {
     "ename": "SyntaxError",
     "evalue": "invalid syntax (<ipython-input-115-91f2ccb365fe>, line 2)",
     "output_type": "error",
     "traceback": [
      "\u001b[1;36m  File \u001b[1;32m\"<ipython-input-115-91f2ccb365fe>\"\u001b[1;36m, line \u001b[1;32m2\u001b[0m\n\u001b[1;33m    df_target.groupby(by=[\"CountryLive\"])[\"Money per month\"].().sort_values(ascending=False).head()\u001b[0m\n\u001b[1;37m                                                             ^\u001b[0m\n\u001b[1;31mSyntaxError\u001b[0m\u001b[1;31m:\u001b[0m invalid syntax\n"
     ]
    }
   ],
   "source": [
    "print(\"Median\" + \"-\"*20)\n",
    "df_target.groupby(by=[\"CountryLive\"])[\"Money per month\"].().sort_values(ascending=False).head()"
   ]
  },
  {
   "cell_type": "code",
   "execution_count": 116,
   "metadata": {
    "collapsed": false
   },
   "outputs": [
    {
     "data": {
      "text/html": [
       "<div>\n",
       "<style scoped>\n",
       "    .dataframe tbody tr th:only-of-type {\n",
       "        vertical-align: middle;\n",
       "    }\n",
       "\n",
       "    .dataframe tbody tr th {\n",
       "        vertical-align: top;\n",
       "    }\n",
       "\n",
       "    .dataframe thead th {\n",
       "        text-align: right;\n",
       "    }\n",
       "</style>\n",
       "<table border=\"1\" class=\"dataframe\">\n",
       "  <thead>\n",
       "    <tr style=\"text-align: right;\">\n",
       "      <th></th>\n",
       "      <th>count</th>\n",
       "      <th>mean</th>\n",
       "      <th>std</th>\n",
       "      <th>min</th>\n",
       "      <th>25%</th>\n",
       "      <th>50%</th>\n",
       "      <th>75%</th>\n",
       "      <th>max</th>\n",
       "    </tr>\n",
       "    <tr>\n",
       "      <th>CountryLive</th>\n",
       "      <th></th>\n",
       "      <th></th>\n",
       "      <th></th>\n",
       "      <th></th>\n",
       "      <th></th>\n",
       "      <th></th>\n",
       "      <th></th>\n",
       "      <th></th>\n",
       "    </tr>\n",
       "  </thead>\n",
       "  <tbody>\n",
       "    <tr>\n",
       "      <th>United States of America</th>\n",
       "      <td>5471.0</td>\n",
       "      <td>206.297711</td>\n",
       "      <td>1807.536639</td>\n",
       "      <td>0.0</td>\n",
       "      <td>0.0</td>\n",
       "      <td>4.166667</td>\n",
       "      <td>44.444444</td>\n",
       "      <td>80000.0</td>\n",
       "    </tr>\n",
       "    <tr>\n",
       "      <th>Canada</th>\n",
       "      <td>578.0</td>\n",
       "      <td>118.434054</td>\n",
       "      <td>365.956679</td>\n",
       "      <td>0.0</td>\n",
       "      <td>0.0</td>\n",
       "      <td>1.631944</td>\n",
       "      <td>25.000000</td>\n",
       "      <td>5000.0</td>\n",
       "    </tr>\n",
       "    <tr>\n",
       "      <th>India</th>\n",
       "      <td>1221.0</td>\n",
       "      <td>66.526198</td>\n",
       "      <td>442.078116</td>\n",
       "      <td>0.0</td>\n",
       "      <td>0.0</td>\n",
       "      <td>0.000000</td>\n",
       "      <td>8.333333</td>\n",
       "      <td>10000.0</td>\n",
       "    </tr>\n",
       "    <tr>\n",
       "      <th>United Kingdom</th>\n",
       "      <td>698.0</td>\n",
       "      <td>55.774980</td>\n",
       "      <td>238.509986</td>\n",
       "      <td>0.0</td>\n",
       "      <td>0.0</td>\n",
       "      <td>0.962963</td>\n",
       "      <td>20.000000</td>\n",
       "      <td>3500.0</td>\n",
       "    </tr>\n",
       "  </tbody>\n",
       "</table>\n",
       "</div>"
      ],
      "text/plain": [
       "                           count        mean          std  min  25%       50%  \\\n",
       "CountryLive                                                                     \n",
       "United States of America  5471.0  206.297711  1807.536639  0.0  0.0  4.166667   \n",
       "Canada                     578.0  118.434054   365.956679  0.0  0.0  1.631944   \n",
       "India                     1221.0   66.526198   442.078116  0.0  0.0  0.000000   \n",
       "United Kingdom             698.0   55.774980   238.509986  0.0  0.0  0.962963   \n",
       "\n",
       "                                75%      max  \n",
       "CountryLive                                   \n",
       "United States of America  44.444444  80000.0  \n",
       "Canada                    25.000000   5000.0  \n",
       "India                      8.333333  10000.0  \n",
       "United Kingdom            20.000000   3500.0  "
      ]
     },
     "execution_count": 116,
     "metadata": {},
     "output_type": "execute_result"
    }
   ],
   "source": [
    "df_target.groupby(by=[\"CountryLive\"])[\"Money per month\"].describe().sort_values([\"mean\"], ascending=False)"
   ]
  },
  {
   "cell_type": "code",
   "execution_count": 119,
   "metadata": {
    "collapsed": false
   },
   "outputs": [
    {
     "name": "stderr",
     "output_type": "stream",
     "text": [
      "/dataquest/system/env/python3/lib/python3.4/site-packages/seaborn/categorical.py:454: FutureWarning: remove_na is deprecated and is a private function. Do not use.\n",
      "  box_data = remove_na(group_data)\n"
     ]
    },
    {
     "data": {
      "image/png": "[encoded data removed]",
      "text/plain": [
       "<matplotlib.figure.Figure at 0x7fece5a4fd30>"
      ]
     },
     "metadata": {},
     "output_type": "display_data"
    }
   ],
   "source": [
    "sns.boxplot(x=\"CountryLive\", y=\"Money per month\", data=df_target)\n",
    "plt.xticks(np.arange(4), [\"Canada\", \"US\", \"UK\", \"India\"])\n",
    "plt.tight_layout();"
   ]
  },
  {
   "cell_type": "code",
   "execution_count": null,
   "metadata": {
    "collapsed": true
   },
   "outputs": [],
   "source": []
  }
 ],
 "metadata": {
  "kernelspec": {
   "display_name": "Python 3",
   "language": "python",
   "name": "python3"
  },
  "language_info": {
   "codemirror_mode": {
    "name": "ipython",
    "version": 3
   },
   "file_extension": ".py",
   "mimetype": "text/x-python",
   "name": "python",
   "nbconvert_exporter": "python",
   "pygments_lexer": "ipython3",
   "version": "3.4.3"
  }
 },
 "nbformat": 4,
 "nbformat_minor": 2
}
